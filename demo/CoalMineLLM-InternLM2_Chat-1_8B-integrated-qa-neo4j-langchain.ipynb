{
 "cells": [
  {
   "cell_type": "markdown",
   "id": "f91ae3ce-f39b-4b41-9cf9-92a5c7a2c5fa",
   "metadata": {},
   "source": [
    "# 使用Neo4j和LangChain集成非结构化和图知识增强煤矿事故QA （CoalMineLLM-InternLM2-Chat-1_8B版）"
   ]
  },
  {
   "cell_type": "markdown",
   "id": "09ded18a-9f52-48b0-9b7c-3486c43021ec",
   "metadata": {},
   "source": [
    "##  1 环境依赖安装"
   ]
  },
  {
   "cell_type": "code",
   "execution_count": 1,
   "id": "4e3c65dd-f9d2-4c94-b132-cf62927a3d86",
   "metadata": {},
   "outputs": [
    {
     "name": "stdout",
     "output_type": "stream",
     "text": [
      "Requirement already satisfied: langchain in d:\\anaconda\\lib\\site-packages (0.2.1)\n",
      "Requirement already satisfied: openai in d:\\anaconda\\lib\\site-packages (1.30.5)\n",
      "Requirement already satisfied: tiktoken in d:\\anaconda\\lib\\site-packages (0.7.0)\n",
      "Requirement already satisfied: neo4j in d:\\anaconda\\lib\\site-packages (5.15.0)\n",
      "Requirement already satisfied: transformers in d:\\anaconda\\lib\\site-packages (4.36.2)\n",
      "Requirement already satisfied: python-dotenv in d:\\anaconda\\lib\\site-packages (1.0.0)\n",
      "Requirement already satisfied: langchain_openai in d:\\anaconda\\lib\\site-packages (0.1.8)\n",
      "Requirement already satisfied: PyYAML>=5.3 in d:\\anaconda\\lib\\site-packages (from langchain) (6.0.1)\n",
      "Requirement already satisfied: SQLAlchemy<3,>=1.4 in d:\\anaconda\\lib\\site-packages (from langchain) (1.4.52)\n",
      "Requirement already satisfied: aiohttp<4.0.0,>=3.8.3 in d:\\anaconda\\lib\\site-packages (from langchain) (3.9.3)\n",
      "Requirement already satisfied: async-timeout<5.0.0,>=4.0.0 in d:\\anaconda\\lib\\site-packages (from langchain) (4.0.3)\n",
      "Requirement already satisfied: langchain-core<0.3.0,>=0.2.0 in d:\\anaconda\\lib\\site-packages (from langchain) (0.2.2)\n",
      "Requirement already satisfied: langchain-text-splitters<0.3.0,>=0.2.0 in d:\\anaconda\\lib\\site-packages (from langchain) (0.2.0)\n",
      "Requirement already satisfied: langsmith<0.2.0,>=0.1.17 in d:\\anaconda\\lib\\site-packages (from langchain) (0.1.64)\n",
      "Requirement already satisfied: numpy<2,>=1 in d:\\anaconda\\lib\\site-packages (from langchain) (1.24.4)\n",
      "Requirement already satisfied: pydantic<3,>=1 in d:\\anaconda\\lib\\site-packages (from langchain) (2.6.4)\n",
      "Requirement already satisfied: requests<3,>=2 in d:\\anaconda\\lib\\site-packages (from langchain) (2.31.0)\n",
      "Requirement already satisfied: tenacity<9.0.0,>=8.1.0 in d:\\anaconda\\lib\\site-packages (from langchain) (8.2.3)\n",
      "Requirement already satisfied: anyio<5,>=3.5.0 in d:\\anaconda\\lib\\site-packages (from openai) (3.7.1)\n",
      "Requirement already satisfied: distro<2,>=1.7.0 in d:\\anaconda\\lib\\site-packages (from openai) (1.9.0)\n",
      "Requirement already satisfied: httpx<1,>=0.23.0 in d:\\anaconda\\lib\\site-packages (from openai) (0.25.0)\n",
      "Requirement already satisfied: sniffio in d:\\anaconda\\lib\\site-packages (from openai) (1.2.0)\n",
      "Requirement already satisfied: tqdm>4 in d:\\anaconda\\lib\\site-packages (from openai) (4.66.2)\n",
      "Requirement already satisfied: typing-extensions<5,>=4.7 in d:\\anaconda\\lib\\site-packages (from openai) (4.8.0)\n",
      "Requirement already satisfied: regex>=2022.1.18 in d:\\anaconda\\lib\\site-packages (from tiktoken) (2022.7.9)\n",
      "Requirement already satisfied: pytz in d:\\anaconda\\lib\\site-packages (from neo4j) (2022.1)\n",
      "Requirement already satisfied: filelock in d:\\anaconda\\lib\\site-packages (from transformers) (3.6.0)\n",
      "Requirement already satisfied: huggingface-hub<1.0,>=0.19.3 in d:\\anaconda\\lib\\site-packages (from transformers) (0.20.1)\n",
      "Requirement already satisfied: packaging>=20.0 in d:\\anaconda\\lib\\site-packages (from transformers) (23.2)\n",
      "Requirement already satisfied: tokenizers<0.19,>=0.14 in d:\\anaconda\\lib\\site-packages (from transformers) (0.15.2)\n",
      "Requirement already satisfied: safetensors>=0.3.1 in d:\\anaconda\\lib\\site-packages (from transformers) (0.3.2)\n",
      "Requirement already satisfied: aiosignal>=1.1.2 in d:\\anaconda\\lib\\site-packages (from aiohttp<4.0.0,>=3.8.3->langchain) (1.3.1)\n",
      "Requirement already satisfied: attrs>=17.3.0 in c:\\users\\jys\\appdata\\roaming\\python\\python39\\site-packages (from aiohttp<4.0.0,>=3.8.3->langchain) (23.1.0)\n",
      "Requirement already satisfied: frozenlist>=1.1.1 in d:\\anaconda\\lib\\site-packages (from aiohttp<4.0.0,>=3.8.3->langchain) (1.4.0)\n",
      "Requirement already satisfied: multidict<7.0,>=4.5 in d:\\anaconda\\lib\\site-packages (from aiohttp<4.0.0,>=3.8.3->langchain) (6.0.4)\n",
      "Requirement already satisfied: yarl<2.0,>=1.0 in d:\\anaconda\\lib\\site-packages (from aiohttp<4.0.0,>=3.8.3->langchain) (1.9.2)\n",
      "Requirement already satisfied: idna>=2.8 in d:\\anaconda\\lib\\site-packages (from anyio<5,>=3.5.0->openai) (3.3)\n",
      "Requirement already satisfied: exceptiongroup in d:\\anaconda\\lib\\site-packages (from anyio<5,>=3.5.0->openai) (1.1.3)\n",
      "Requirement already satisfied: certifi in d:\\anaconda\\lib\\site-packages (from httpx<1,>=0.23.0->openai) (2022.9.14)\n",
      "Requirement already satisfied: httpcore<0.19.0,>=0.18.0 in d:\\anaconda\\lib\\site-packages (from httpx<1,>=0.23.0->openai) (0.18.0)\n",
      "Requirement already satisfied: fsspec>=2023.5.0 in d:\\anaconda\\lib\\site-packages (from huggingface-hub<1.0,>=0.19.3->transformers) (2023.10.0)\n",
      "Requirement already satisfied: jsonpatch<2.0,>=1.33 in d:\\anaconda\\lib\\site-packages (from langchain-core<0.3.0,>=0.2.0->langchain) (1.33)\n",
      "Requirement already satisfied: orjson<4.0.0,>=3.9.14 in d:\\anaconda\\lib\\site-packages (from langsmith<0.2.0,>=0.1.17->langchain) (3.9.15)\n",
      "Requirement already satisfied: annotated-types>=0.4.0 in d:\\anaconda\\lib\\site-packages (from pydantic<3,>=1->langchain) (0.5.0)\n",
      "Requirement already satisfied: pydantic-core==2.16.3 in d:\\anaconda\\lib\\site-packages (from pydantic<3,>=1->langchain) (2.16.3)\n",
      "Requirement already satisfied: charset-normalizer<4,>=2 in d:\\anaconda\\lib\\site-packages (from requests<3,>=2->langchain) (2.0.4)\n",
      "Requirement already satisfied: urllib3<3,>=1.21.1 in d:\\anaconda\\lib\\site-packages (from requests<3,>=2->langchain) (1.26.11)\n",
      "Requirement already satisfied: greenlet!=0.4.17 in d:\\anaconda\\lib\\site-packages (from SQLAlchemy<3,>=1.4->langchain) (1.1.1)\n",
      "Requirement already satisfied: colorama in d:\\anaconda\\lib\\site-packages (from tqdm>4->openai) (0.4.6)\n",
      "Requirement already satisfied: h11<0.15,>=0.13 in d:\\anaconda\\lib\\site-packages (from httpcore<0.19.0,>=0.18.0->httpx<1,>=0.23.0->openai) (0.14.0)\n",
      "Requirement already satisfied: jsonpointer>=1.9 in d:\\anaconda\\lib\\site-packages (from jsonpatch<2.0,>=1.33->langchain-core<0.3.0,>=0.2.0->langchain) (2.4)\n",
      "Note: you may need to restart the kernel to use updated packages.\n"
     ]
    }
   ],
   "source": [
    "%pip install langchain openai tiktoken neo4j transformers python-dotenv langchain_openai"
   ]
  },
  {
   "cell_type": "markdown",
   "id": "99a4a3db-a5b6-48ce-b941-d48ee3bae56c",
   "metadata": {},
   "source": [
    "## 2 导包"
   ]
  },
  {
   "cell_type": "code",
   "execution_count": 3,
   "outputs": [],
   "source": [
    "import os\n",
    "import re\n",
    "from langchain.vectorstores.neo4j_vector import Neo4jVector\n",
    "from langchain.embeddings.openai import OpenAIEmbeddings\n",
    "from langchain.text_splitter import CharacterTextSplitter, RecursiveCharacterTextSplitter\n",
    "from transformers import AutoModelForSeq2SeqLM, AutoTokenizer\n",
    "from dotenv import load_dotenv\n",
    "from langchain.chat_models import ChatOpenAI\n",
    "from langchain.chains import GraphCypherQAChain\n",
    "from langchain.graphs import Neo4jGraph\n",
    "\n",
    "os.environ[\"OPENAI_API_KEY\"] = \"sk-...\" #填入你自己的OpenAI API key\n",
    "os.environ[\"OPENAI_API_BASE\"] = \"https://api.xiaoai.plus/v1\"  #调整API请求地址，设置访问中转代理服务器，如果商家购买的，可以联系商家要代理服务器地址，这里并不是固定的\n",
    "os.environ[\"NEO4J_URI\"] = \"neo4j://localhost:7687\" # Neo4j数据库的URI\n",
    "os.environ[\"NEO4J_USERNAME\"] = \"neo4j\" #设置Neo4j数据库的用户名\n",
    "os.environ[\"NEO4J_PASSWORD\"] = \"neo4j\"#设置Neo4j数据库的密码"
   ],
   "metadata": {
    "collapsed": false
   }
  },
  {
   "cell_type": "markdown",
   "id": "ee9594dd-6dfd-4228-af6d-ad4955a188a2",
   "metadata": {},
   "source": [
    "## 3 读取本地事故报告文本"
   ]
  },
  {
   "cell_type": "code",
   "execution_count": 4,
   "id": "7e734cc6-35cb-40dc-b9e1-606fbeb4cf81",
   "metadata": {},
   "outputs": [],
   "source": [
    "with open(r'C:\\Users\\jys\\OneDrive\\桌面\\accidents.txt',encoding='utf-8') as f:\n",
    "    accidents_data_txt = f.read()"
   ]
  },
  {
   "cell_type": "markdown",
   "id": "5356d47a-461a-48cd-804a-533645baa8ed",
   "metadata": {},
   "source": [
    "## 4 加载bert分词器"
   ]
  },
  {
   "cell_type": "code",
   "execution_count": 5,
   "id": "dfd4e719-709e-422c-b756-600e71dec2bd",
   "metadata": {},
   "outputs": [
    {
     "data": {
      "text/plain": "tokenizer_config.json:   0%|          | 0.00/49.0 [00:00<?, ?B/s]",
      "application/vnd.jupyter.widget-view+json": {
       "version_major": 2,
       "version_minor": 0,
       "model_id": "4da32ffbfabc4d8a823da1ca975efbc6"
      }
     },
     "metadata": {},
     "output_type": "display_data"
    },
    {
     "name": "stderr",
     "output_type": "stream",
     "text": [
      "D:\\anaconda\\lib\\site-packages\\huggingface_hub\\file_download.py:149: UserWarning: `huggingface_hub` cache-system uses symlinks by default to efficiently store duplicated files but your machine does not support them in C:\\Users\\jys\\.cache\\huggingface\\hub\\models--bert-base-chinese. Caching files will still work but in a degraded version that might require more space on your disk. This warning can be disabled by setting the `HF_HUB_DISABLE_SYMLINKS_WARNING` environment variable. For more details, see https://huggingface.co/docs/huggingface_hub/how-to-cache#limitations.\n",
      "To support symlinks on Windows, you either need to activate Developer Mode or to run Python as an administrator. In order to see activate developer mode, see this article: https://docs.microsoft.com/en-us/windows/apps/get-started/enable-your-device-for-development\n",
      "  warnings.warn(message)\n"
     ]
    },
    {
     "data": {
      "text/plain": "config.json:   0%|          | 0.00/624 [00:00<?, ?B/s]",
      "application/vnd.jupyter.widget-view+json": {
       "version_major": 2,
       "version_minor": 0,
       "model_id": "f6d0312ae05d4e56af01beb1c20a179a"
      }
     },
     "metadata": {},
     "output_type": "display_data"
    },
    {
     "data": {
      "text/plain": "vocab.txt:   0%|          | 0.00/110k [00:00<?, ?B/s]",
      "application/vnd.jupyter.widget-view+json": {
       "version_major": 2,
       "version_minor": 0,
       "model_id": "f9e64d4589624a51b6d0c340f8220356"
      }
     },
     "metadata": {},
     "output_type": "display_data"
    },
    {
     "data": {
      "text/plain": "tokenizer.json:   0%|          | 0.00/269k [00:00<?, ?B/s]",
      "application/vnd.jupyter.widget-view+json": {
       "version_major": 2,
       "version_minor": 0,
       "model_id": "9ea30d6a59124e33bebf7387dcb79e42"
      }
     },
     "metadata": {},
     "output_type": "display_data"
    }
   ],
   "source": [
    "tokenizer = AutoTokenizer.from_pretrained(\"bert-base-chinese\")\n",
    "\n",
    "def bert_len(text):\n",
    "    tokens = tokenizer.encode(text)\n",
    "    return len(tokens)"
   ]
  },
  {
   "cell_type": "markdown",
   "id": "54e824c0-2dc4-4013-8c97-31f89eaeff32",
   "metadata": {},
   "source": [
    "##  5 切块"
   ]
  },
  {
   "cell_type": "code",
   "execution_count": 6,
   "id": "44d0af5e-3cc4-4e91-ab29-86c5674aa407",
   "metadata": {},
   "outputs": [
    {
     "name": "stderr",
     "output_type": "stream",
     "text": [
      "Token indices sequence length is longer than the specified maximum sequence length for this model (650 > 512). Running this sequence through the model will result in indexing errors\n"
     ]
    }
   ],
   "source": [
    "text_splitter = RecursiveCharacterTextSplitter(\n",
    "          chunk_size = 1000,  # 切块大小\n",
    "          chunk_overlap  = 200,  # 切块重叠大小\n",
    "          length_function = bert_len,\n",
    "          separators = [\"\\n\",' '],\n",
    "      )\n",
    "documents = text_splitter.create_documents([accidents_data_txt])"
   ]
  },
  {
   "cell_type": "code",
   "execution_count": 7,
   "id": "f5095483-d844-4cce-a63b-82def1b7fd65",
   "metadata": {},
   "outputs": [
    {
     "name": "stdout",
     "output_type": "stream",
     "text": [
      "11\n"
     ]
    }
   ],
   "source": [
    "#打印分块chunk个数\n",
    "print(len(documents))"
   ]
  },
  {
   "cell_type": "markdown",
   "id": "251565d8-15be-4c2a-85bf-dc2caa655bab",
   "metadata": {},
   "source": [
    "## 6 把切块好的文本块集合存入到Neo4j向量数据库中"
   ]
  },
  {
   "cell_type": "code",
   "execution_count": 8,
   "id": "6f0413f4-8ac7-4513-a361-39906f0f8dfa",
   "metadata": {},
   "outputs": [
    {
     "name": "stderr",
     "output_type": "stream",
     "text": [
      "D:\\anaconda\\lib\\site-packages\\langchain_core\\_api\\deprecation.py:119: LangChainDeprecationWarning: The class `OpenAIEmbeddings` was deprecated in LangChain 0.0.9 and will be removed in 0.3.0. An updated version of the class exists in the langchain-openai package and should be used instead. To use it run `pip install -U langchain-openai` and import as `from langchain_openai import OpenAIEmbeddings`.\n",
      "  warn_deprecated(\n"
     ]
    }
   ],
   "source": [
    "neo4j_vector = Neo4jVector.from_documents(\n",
    "    documents,\n",
    "    OpenAIEmbeddings(),\n",
    "    url=os.environ[\"NEO4J_URI\"],\n",
    "    username=os.environ[\"NEO4J_USERNAME\"],\n",
    "    password=os.environ[\"NEO4J_PASSWORD\"]\n",
    ")"
   ]
  },
  {
   "cell_type": "markdown",
   "id": "551e4daf-c0a3-4ead-8a1b-330833a8170f",
   "metadata": {},
   "source": [
    "## 7 检索query相关的Top2文本块"
   ]
  },
  {
   "cell_type": "code",
   "execution_count": 14,
   "id": "c94d133f-6799-4f29-9daf-c8009488ef37",
   "metadata": {},
   "outputs": [
    {
     "name": "stdout",
     "output_type": "stream",
     "text": [
      "第1个文本块\n",
      "\n",
      "日期和时间: 2022年11月22日15时50分\n",
      "地点: 崇信县周寨煤业有限责任公司措施斜井\n",
      "事故类别: 运输事故\n",
      "死亡人数: 1人\n",
      "受伤人数: 0人\n",
      "经济损失: 158.227万元\n",
      "\n",
      "4.2023年1月27日4时38分许，山西兰花集团营山煤矿有限公司ZF1212进工作面发生水害事故，造成4人死亡，事故直接经济损失876.12万元。\n",
      "事故直接原因:经综合分析认定: 山煤矿在未消除复采区域水害事故隐患 的情况下安排掘进 ZF1212 巷，超前钻探(长探)违反《煤矿安全规程》，逐班探测(短探)违反作业规程，前方积水未探明，危险掘进，受老空水的长期浸泡和放炮对围岩(煤)的破坏并叠加采场应力与水压力耦合的影响，3#煤上部老空积水突破厚度 有限的煤壁瞬间溃入工作面，造成 4 人遇难，是本起事故的直接原因。\n",
      "事故间接原因:\n",
      "(1)山煤矿重生产，轻安全。违反兰花科创《综采放顶煤工作面管理办法》规定，在 ZF121 放顶煤工作面开采设计未批复，周 边采空积水未疏放干净、隐患未消除的情况下提前开掘 ZF1211 巷、ZF1212 巷。\n",
      "(2) 山煤矿防治水工作责任层层悬空，管理混乱。违反《煤矿防治水细则》第四十八条第(一)项规定，擅自将探放水钻孔超 前距确定为 10m;防治水制度不落实，探水钻孔钻探、验收、移交 工作未按要求执行;未认真进行物探，物探报告造假，探放水弄虚作假;长探不到位、短探不落实\n",
      "(3)山煤矿隐患排查流于形式，现场安全监督形同虚设。未按《中华人民共和国安全生产法》第四十一条规定，对辨识出的 水害重大风险未采取相应管控措施，安全隐患大排查流于形式，现 场安全管理混乱。工业视频未有效利用，探放水相关制度及作业规程在现场得不到有效落实，现场安全监督形同虚设\n",
      "(4) 兰花集团企业主体责任不落实，疏于管理。2022 年7月1日将日常安全管理责任委托给兰花科创后，日常疏于安全监督管理，总工程师对营山煤矿的复采防治水工作未引起足够重视，包矿领导到矿检查期间也未发现营山煤矿防治水工作造假的情况。\n",
      "(5) 兰花科创安全管理不到位，日常安全监督检查不严不细。自 2022 年 7月 1 日受委托对营山煤矿进行安全监管后，安全管理不 到位，日安全监督检查不认真、不仔细，未发现 ZF121 放顶煤工作面未批先掘以及探放水方面存在的诸多问题。\n",
      "\n",
      "\n",
      "第2个文本块\n",
      "\n",
      "3.矿井隐患排查治理不到位。企业隐患排查过程中，未排查出“人行道铺设不符合规定，给煤机爬梯、躲避响室位置设置不当，2457车场以下未安设声光报警装置”等安全隐患，对现场噪音超标的安全隐患未及时治理，对现场作业人员违章作业现象未及时发现;对2457车场未配备警戒绳未及时排查和督促整改。\n",
      "4.职工安全培训教育不到位，安全意识淡薄。现场作业人员安全素质差，不能有效预判风险，不严格执行运输管理制度班组安全建设质量不高，班长带头违章。职工自保互保能力不足，不能相互监督和落实安全职责。\n",
      "日期和时间: 2018年8月21日3时02分\n",
      "地点: 窑街煤电集团天祝煤业有限责任公司一采区\n",
      "事故类别: 运输事故\n",
      "死亡人数: 1人\n",
      "受伤人数: 0人\n",
      "经济损失: 76.5792万元\n",
      "\n",
      "6.2023年2月22日13时12分许，内蒙古自治区阿拉善盟李井滩生态移民示范区内蒙古新井煤业有限公司露天煤矿发生顶板事故，造成53人死亡、6人受伤，直接经济损失20430.25万元。\n",
      "事故直接原因是:未按初步设计施工，随意合并台阶，形成超高超陡边坡，在采场底部连续高强度剥离采煤，致使边坡稳定性持续降低，处于失稳状态，边帮岩体沿断层面和节理面滑落坍塌，加之应急处置不力，未能及时组织现场作业人员逃生，造成重大人员伤亡和财产损失。\n",
      "事故间接原因:\n",
      "(一)煤矿严重违法建设生产\n",
      "\n",
      "\n"
     ]
    }
   ],
   "source": [
    "query = \"山西兰花集团营山煤矿有限公司发生了什么事故？\"\n",
    "vector_results = neo4j_vector.similarity_search(query, k=2)\n",
    "for i, res in enumerate(vector_results):\n",
    "    print(\"第{}个文本块\\n\".format(i+1))\n",
    "    print(res.page_content)\n",
    "    print(\"\\n\")\n",
    "   \n",
    "#返回\n",
    "vector_result = vector_results[0].page_content + vector_results[1].page_content"
   ]
  },
  {
   "cell_type": "code",
   "execution_count": 15,
   "id": "2c82f5d0-6930-48c9-bc17-3800b3754f91",
   "metadata": {},
   "outputs": [
    {
     "name": "stdout",
     "output_type": "stream",
     "text": [
      "日期和时间: 2022年11月22日15时50分\n",
      "地点: 崇信县周寨煤业有限责任公司措施斜井\n",
      "事故类别: 运输事故\n",
      "死亡人数: 1人\n",
      "受伤人数: 0人\n",
      "经济损失: 158.227万元\n",
      "\n",
      "4.2023年1月27日4时38分许，山西兰花集团营山煤矿有限公司ZF1212进工作面发生水害事故，造成4人死亡，事故直接经济损失876.12万元。\n",
      "事故直接原因:经综合分析认定: 山煤矿在未消除复采区域水害事故隐患 的情况下安排掘进 ZF1212 巷，超前钻探(长探)违反《煤矿安全规程》，逐班探测(短探)违反作业规程，前方积水未探明，危险掘进，受老空水的长期浸泡和放炮对围岩(煤)的破坏并叠加采场应力与水压力耦合的影响，3#煤上部老空积水突破厚度 有限的煤壁瞬间溃入工作面，造成 4 人遇难，是本起事故的直接原因。\n",
      "事故间接原因:\n",
      "(1)山煤矿重生产，轻安全。违反兰花科创《综采放顶煤工作面管理办法》规定，在 ZF121 放顶煤工作面开采设计未批复，周 边采空积水未疏放干净、隐患未消除的情况下提前开掘 ZF1211 巷、ZF1212 巷。\n",
      "(2) 山煤矿防治水工作责任层层悬空，管理混乱。违反《煤矿防治水细则》第四十八条第(一)项规定，擅自将探放水钻孔超 前距确定为 10m;防治水制度不落实，探水钻孔钻探、验收、移交 工作未按要求执行;未认真进行物探，物探报告造假，探放水弄虚作假;长探不到位、短探不落实\n",
      "(3)山煤矿隐患排查流于形式，现场安全监督形同虚设。未按《中华人民共和国安全生产法》第四十一条规定，对辨识出的 水害重大风险未采取相应管控措施，安全隐患大排查流于形式，现 场安全管理混乱。工业视频未有效利用，探放水相关制度及作业规程在现场得不到有效落实，现场安全监督形同虚设\n",
      "(4) 兰花集团企业主体责任不落实，疏于管理。2022 年7月1日将日常安全管理责任委托给兰花科创后，日常疏于安全监督管理，总工程师对营山煤矿的复采防治水工作未引起足够重视，包矿领导到矿检查期间也未发现营山煤矿防治水工作造假的情况。\n",
      "(5) 兰花科创安全管理不到位，日常安全监督检查不严不细。自 2022 年 7月 1 日受委托对营山煤矿进行安全监管后，安全管理不 到位，日安全监督检查不认真、不仔细，未发现 ZF121 放顶煤工作面未批先掘以及探放水方面存在的诸多问题。3.矿井隐患排查治理不到位。企业隐患排查过程中，未排查出“人行道铺设不符合规定，给煤机爬梯、躲避响室位置设置不当，2457车场以下未安设声光报警装置”等安全隐患，对现场噪音超标的安全隐患未及时治理，对现场作业人员违章作业现象未及时发现;对2457车场未配备警戒绳未及时排查和督促整改。\n",
      "4.职工安全培训教育不到位，安全意识淡薄。现场作业人员安全素质差，不能有效预判风险，不严格执行运输管理制度班组安全建设质量不高，班长带头违章。职工自保互保能力不足，不能相互监督和落实安全职责。\n",
      "日期和时间: 2018年8月21日3时02分\n",
      "地点: 窑街煤电集团天祝煤业有限责任公司一采区\n",
      "事故类别: 运输事故\n",
      "死亡人数: 1人\n",
      "受伤人数: 0人\n",
      "经济损失: 76.5792万元\n",
      "\n",
      "6.2023年2月22日13时12分许，内蒙古自治区阿拉善盟李井滩生态移民示范区内蒙古新井煤业有限公司露天煤矿发生顶板事故，造成53人死亡、6人受伤，直接经济损失20430.25万元。\n",
      "事故直接原因是:未按初步设计施工，随意合并台阶，形成超高超陡边坡，在采场底部连续高强度剥离采煤，致使边坡稳定性持续降低，处于失稳状态，边帮岩体沿断层面和节理面滑落坍塌，加之应急处置不力，未能及时组织现场作业人员逃生，造成重大人员伤亡和财产损失。\n",
      "事故间接原因:\n",
      "(一)煤矿严重违法建设生产\n"
     ]
    }
   ],
   "source": [
    "print(vector_result)  #作为非结构化知识信息"
   ]
  },
  {
   "cell_type": "markdown",
   "id": "07d90655-e725-4b13-903b-f979639266b5",
   "metadata": {},
   "source": [
    "## 8 构建Neo4j QA chain"
   ]
  },
  {
   "cell_type": "code",
   "execution_count": 16,
   "id": "21be8a9a-6d9e-455e-a47e-a0439f74f315",
   "metadata": {},
   "outputs": [],
   "source": [
    "graph = Neo4jGraph(\n",
    "    url=os.environ[\"NEO4J_URI\"], username=os.environ[\"NEO4J_USERNAME\"], password=os.environ[\"NEO4J_PASSWORD\"]\n",
    ")"
   ]
  },
  {
   "cell_type": "code",
   "execution_count": 17,
   "id": "27ae5d46-c0e5-4e96-878b-ad0f0d9ed25a",
   "metadata": {},
   "outputs": [
    {
     "name": "stderr",
     "output_type": "stream",
     "text": [
      "D:\\anaconda\\lib\\site-packages\\langchain_core\\_api\\deprecation.py:119: LangChainDeprecationWarning: The class `ChatOpenAI` was deprecated in LangChain 0.0.10 and will be removed in 0.3.0. An updated version of the class exists in the langchain-openai package and should be used instead. To use it run `pip install -U langchain-openai` and import as `from langchain_openai import ChatOpenAI`.\n",
      "  warn_deprecated(\n"
     ]
    }
   ],
   "source": [
    "chain = GraphCypherQAChain.from_llm(\n",
    "    ChatOpenAI(temperature=0), graph=graph, verbose=True\n",
    ")"
   ]
  },
  {
   "cell_type": "markdown",
   "id": "2e76b5ce-3765-4ac5-b5db-2abcda8efd70",
   "metadata": {},
   "source": [
    "## 9 Neo4j图知识查询"
   ]
  },
  {
   "cell_type": "code",
   "execution_count": 20,
   "id": "dd233252-28b2-43e9-b190-ebbe43858e45",
   "metadata": {},
   "outputs": [
    {
     "name": "stdout",
     "output_type": "stream",
     "text": [
      "\n",
      "\n",
      "\u001B[1m> Entering new GraphCypherQAChain chain...\u001B[0m\n",
      "Generated Cypher:\n",
      "\u001B[32;1m\u001B[1;3mMATCH (:煤矿名称{name:\"山西兰花集团营山煤矿有限公司\"})-[:发生事故类别]->(事故类别) RETURN 事故类别.name\u001B[0m\n",
      "Full Context:\n",
      "\u001B[32;1m\u001B[1;3m[{'事故类别.name': '水害事故'}]\u001B[0m\n",
      "\n",
      "\u001B[1m> Finished chain.\u001B[0m\n"
     ]
    }
   ],
   "source": [
    "graph_result = chain.run(\"山西兰花集团营山煤矿有限公司发生了什么事故？\")"
   ]
  },
  {
   "cell_type": "code",
   "execution_count": 21,
   "id": "8d435c91-d277-4d32-8585-4ddf9b83ba93",
   "metadata": {},
   "outputs": [
    {
     "data": {
      "text/plain": "'水害事故。'"
     },
     "execution_count": 21,
     "metadata": {},
     "output_type": "execute_result"
    }
   ],
   "source": [
    "graph_result"
   ]
  },
  {
   "cell_type": "markdown",
   "id": "8cd69386-ff54-473b-a9b3-87cc54c47c2f",
   "metadata": {},
   "source": [
    "## 10 使用CoalMineLLM-InternLM2-Chat-1_8B模型，进行煤矿事故QA"
   ]
  },
  {
   "cell_type": "code",
   "execution_count": 23,
   "id": "ad514175-c338-440b-a8e2-d37a55796309",
   "metadata": {},
   "outputs": [],
   "source": [
    "query = \"山西兰花集团营山煤矿有限公司发生了什么事故？\"\n",
    "final_prompt = f\"\"\"你是一个乐于助人的问答代理人。你的任务是分析并综合来自两个来源的信息：相似性搜索top2的结果数据\n",
    "（非结构化信息）和图数据库查询出的相关数据（结构化信息）。\n",
    "给定用户的查询：{query},准确且高效地回答用户提出问题。\n",
    "从以下数据中提供回答的上下文:\n",
    "非结构化信息: {vector_result}.\n",
    "结构化信息: {graph_result}.\n",
    "\"\"\""
   ]
  },
  {
   "cell_type": "code",
   "execution_count": 27,
   "outputs": [
    {
     "name": "stdout",
     "output_type": "stream",
     "text": [
      "Collecting einops\n",
      "  Downloading einops-0.8.0-py3-none-any.whl.metadata (12 kB)\n",
      "Downloading einops-0.8.0-py3-none-any.whl (43 kB)\n",
      "   ---------------------------------------- 43.2/43.2 kB 95.9 kB/s eta 0:00:00\n",
      "Installing collected packages: einops\n",
      "Successfully installed einops-0.8.0\n"
     ]
    }
   ],
   "source": [
    "!pip install einops"
   ],
   "metadata": {
    "collapsed": false
   }
  },
  {
   "cell_type": "code",
   "execution_count": 31,
   "outputs": [
    {
     "data": {
      "text/plain": "Loading checkpoint shards:   0%|          | 0/2 [00:00<?, ?it/s]",
      "application/vnd.jupyter.widget-view+json": {
       "version_major": 2,
       "version_minor": 0,
       "model_id": "5f970c728b254257b1add5ab8a278b29"
      }
     },
     "metadata": {},
     "output_type": "display_data"
    },
    {
     "data": {
      "text/plain": "'根据提供的信息，2022年11月22日15时50分，山西兰花集团营山煤矿有限公司发生了一起水害事故，造成4人死亡，直接经济损失为876.12万元。事故直接原因是未消除复采区域水害隐患，前方积水未探明，危险掘进，受老空水长期浸泡和放炮对围岩（煤）造成破坏并叠加采场应力与水压力耦合的影响，积水突破了煤壁瞬间溃入工作面。事故间接原因包括违反安全规程、水害隐患未消除、现场掘进作业、防治水工作责任悬空、隐患排查流于形式、主体责任不落实、安全管理不到位和职工安全培训教育不到位。'"
     },
     "execution_count": 31,
     "metadata": {},
     "output_type": "execute_result"
    }
   ],
   "source": [
    "from transformers import AutoTokenizer, AutoModel, GenerationConfig, AutoModelForCausalLM\n",
    "model_path =r\"C:\\Users\\jys\\Downloads\\CoalMineLLM_InternlM_1_8B-Chat\"\n",
    "model = AutoModel.from_pretrained(model_path, trust_remote_code=True).half().cuda()\n",
    "tokenizer = AutoTokenizer.from_pretrained(model_path, trust_remote_code=True)\n",
    "model = model.eval()\n",
    "response, history = model.chat(tokenizer, final_prompt, history=[])\n",
    "response"
   ],
   "metadata": {
    "collapsed": false
   }
  }
 ],
 "metadata": {
  "kernelspec": {
   "display_name": "Python 3 (ipykernel)",
   "language": "python",
   "name": "python3"
  },
  "language_info": {
   "codemirror_mode": {
    "name": "ipython",
    "version": 3
   },
   "file_extension": ".py",
   "mimetype": "text/x-python",
   "name": "python",
   "nbconvert_exporter": "python",
   "pygments_lexer": "ipython3",
   "version": "3.8.10"
  }
 },
 "nbformat": 4,
 "nbformat_minor": 5
}
